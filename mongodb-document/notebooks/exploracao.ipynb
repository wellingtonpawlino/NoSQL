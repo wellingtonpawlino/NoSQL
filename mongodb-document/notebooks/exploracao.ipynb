{
 "cells": [
  {
   "metadata": {
    "ExecuteTime": {
     "end_time": "2025-07-06T19:10:33.564105Z",
     "start_time": "2025-07-06T19:10:33.307407Z"
    }
   },
   "cell_type": "code",
   "source": [
    "from pymongo import MongoClient\n",
    "from pprint import pprint\n",
    "\n",
    "# Conectando ao MongoDB local\n",
    "client = MongoClient(\"mongodb://localhost:27017/\")\n",
    "db = client[\"vendas\"]\n",
    "colecao = db[\"clientes\"]"
   ],
   "id": "5f448ef4e3be316c",
   "outputs": [],
   "execution_count": 1
  },
  {
   "metadata": {
    "ExecuteTime": {
     "end_time": "2025-07-06T21:20:48.408912Z",
     "start_time": "2025-07-06T21:20:48.386610Z"
    }
   },
   "cell_type": "code",
   "source": [
    "import pandas as pd\n",
    "from pymongo import MongoClient\n",
    "\n",
    "# Conexão com MongoDB\n",
    "client = MongoClient(\"mongodb://localhost:27017/\")\n",
    "db = client[\"vendas\"]\n",
    "colecao = db[\"clientes\"]\n",
    "\n",
    "# Buscar documentos e transformar em DataFrame\n",
    "dados = list(colecao.find({}, { \"_id\": 0 }))  # Remove o campo _id\n",
    "df = pd.DataFrame(dados)\n",
    "\n",
    "df"
   ],
   "id": "6c0e28392285cacd",
   "outputs": [
    {
     "data": {
      "text/plain": [
       "        nome             cpf   vip\n",
       "0  João Lima  123.456.789-00  True\n",
       "1  João Lima  123.456.789-00  True"
      ],
      "text/html": [
       "<div>\n",
       "<style scoped>\n",
       "    .dataframe tbody tr th:only-of-type {\n",
       "        vertical-align: middle;\n",
       "    }\n",
       "\n",
       "    .dataframe tbody tr th {\n",
       "        vertical-align: top;\n",
       "    }\n",
       "\n",
       "    .dataframe thead th {\n",
       "        text-align: right;\n",
       "    }\n",
       "</style>\n",
       "<table border=\"1\" class=\"dataframe\">\n",
       "  <thead>\n",
       "    <tr style=\"text-align: right;\">\n",
       "      <th></th>\n",
       "      <th>nome</th>\n",
       "      <th>cpf</th>\n",
       "      <th>vip</th>\n",
       "    </tr>\n",
       "  </thead>\n",
       "  <tbody>\n",
       "    <tr>\n",
       "      <th>0</th>\n",
       "      <td>João Lima</td>\n",
       "      <td>123.456.789-00</td>\n",
       "      <td>True</td>\n",
       "    </tr>\n",
       "    <tr>\n",
       "      <th>1</th>\n",
       "      <td>João Lima</td>\n",
       "      <td>123.456.789-00</td>\n",
       "      <td>True</td>\n",
       "    </tr>\n",
       "  </tbody>\n",
       "</table>\n",
       "</div>"
      ]
     },
     "execution_count": 6,
     "metadata": {},
     "output_type": "execute_result"
    }
   ],
   "execution_count": 6
  },
  {
   "metadata": {
    "ExecuteTime": {
     "end_time": "2025-07-06T21:21:54.349661Z",
     "start_time": "2025-07-06T21:21:54.285323Z"
    }
   },
   "cell_type": "code",
   "source": [
    "from pymongo import MongoClient\n",
    "from datetime import datetime\n",
    "\n",
    "client = MongoClient(\"mongodb://localhost:27017/\")\n",
    "db = client[\"vendas\"]\n",
    "notas = db[\"notafiscal\"]\n",
    "\n",
    "nota = {\n",
    "    \"cliente\": {\n",
    "        \"cpf\": \"123.456.789-00\",\n",
    "        \"nome\": \"João Lima\"\n",
    "    },\n",
    "    \"data\": datetime.now(),\n",
    "    \"itens\": [\n",
    "        { \"produto\": \"Notebook Gamer\", \"quantidade\": 1, \"preco_unitario\": 4899.90 },\n",
    "        { \"produto\": \"Mouse\", \"quantidade\": 2, \"preco_unitario\": 89.90 }\n",
    "    ],\n",
    "    \"total\": 4899.90 + 2 * 89.90,\n",
    "    \"pagamento\": {\n",
    "        \"forma\": \"cartao\",\n",
    "        \"parcelas\": 3\n",
    "    }\n",
    "}\n",
    "\n",
    "resultado = notas.insert_one(nota)\n",
    "print(\"🧾 Nota fiscal inserida com ID:\", resultado.inserted_id)"
   ],
   "id": "9f6af8dc258bc625",
   "outputs": [
    {
     "name": "stdout",
     "output_type": "stream",
     "text": [
      "🧾 Nota fiscal inserida com ID: 686ae8f2cb4a8377f4aea50e\n"
     ]
    }
   ],
   "execution_count": 7
  },
  {
   "metadata": {
    "ExecuteTime": {
     "end_time": "2025-07-06T21:22:53.939602Z",
     "start_time": "2025-07-06T21:22:53.930540Z"
    }
   },
   "cell_type": "code",
   "source": [
    "from pprint import pprint\n",
    "\n",
    "for nf in notas.find({}, { \"_id\": 0 }):\n",
    "    pprint(nf)\n",
    "\n",
    "dados = list(colecao.find({}, { \"_id\": 0 }))  # Remove o campo _id\n",
    "df = pd.DataFrame(dados)\n",
    "\n"
   ],
   "id": "75f47d42769082e4",
   "outputs": [
    {
     "name": "stdout",
     "output_type": "stream",
     "text": [
      "{'cliente': {'cpf': '123.456.789-00', 'nome': 'João Lima'},\n",
      " 'data': datetime.datetime(2025, 7, 6, 18, 21, 54, 290000),\n",
      " 'itens': [{'preco_unitario': 4899.9,\n",
      "            'produto': 'Notebook Gamer',\n",
      "            'quantidade': 1},\n",
      "           {'preco_unitario': 89.9, 'produto': 'Mouse', 'quantidade': 2}],\n",
      " 'pagamento': {'forma': 'cartao', 'parcelas': 3},\n",
      " 'total': 5079.7}\n"
     ]
    }
   ],
   "execution_count": 9
  },
  {
   "metadata": {
    "ExecuteTime": {
     "end_time": "2025-07-06T21:23:56.093282Z",
     "start_time": "2025-07-06T21:23:56.025263Z"
    }
   },
   "cell_type": "code",
   "source": [
    "import pandas as pd\n",
    "from pymongo import MongoClient\n",
    "\n",
    "client = MongoClient(\"mongodb://localhost:27017/\")\n",
    "db = client[\"vendas\"]\n",
    "notas = db[\"notafiscal\"]\n",
    "\n",
    "# Buscar documentos e transformar em DataFrame\n",
    "dados = list(notas.find({}, { \"_id\": 0 }))\n",
    "df = pd.DataFrame(dados)\n",
    "\n",
    "# Mostrar resultado\n",
    "df"
   ],
   "id": "882ec767424673f4",
   "outputs": [
    {
     "data": {
      "text/plain": [
       "                                          cliente                    data  \\\n",
       "0  {'cpf': '123.456.789-00', 'nome': 'João Lima'} 2025-07-06 18:21:54.290   \n",
       "\n",
       "                                               itens   total  \\\n",
       "0  [{'produto': 'Notebook Gamer', 'quantidade': 1...  5079.7   \n",
       "\n",
       "                            pagamento  \n",
       "0  {'forma': 'cartao', 'parcelas': 3}  "
      ],
      "text/html": [
       "<div>\n",
       "<style scoped>\n",
       "    .dataframe tbody tr th:only-of-type {\n",
       "        vertical-align: middle;\n",
       "    }\n",
       "\n",
       "    .dataframe tbody tr th {\n",
       "        vertical-align: top;\n",
       "    }\n",
       "\n",
       "    .dataframe thead th {\n",
       "        text-align: right;\n",
       "    }\n",
       "</style>\n",
       "<table border=\"1\" class=\"dataframe\">\n",
       "  <thead>\n",
       "    <tr style=\"text-align: right;\">\n",
       "      <th></th>\n",
       "      <th>cliente</th>\n",
       "      <th>data</th>\n",
       "      <th>itens</th>\n",
       "      <th>total</th>\n",
       "      <th>pagamento</th>\n",
       "    </tr>\n",
       "  </thead>\n",
       "  <tbody>\n",
       "    <tr>\n",
       "      <th>0</th>\n",
       "      <td>{'cpf': '123.456.789-00', 'nome': 'João Lima'}</td>\n",
       "      <td>2025-07-06 18:21:54.290</td>\n",
       "      <td>[{'produto': 'Notebook Gamer', 'quantidade': 1...</td>\n",
       "      <td>5079.7</td>\n",
       "      <td>{'forma': 'cartao', 'parcelas': 3}</td>\n",
       "    </tr>\n",
       "  </tbody>\n",
       "</table>\n",
       "</div>"
      ]
     },
     "execution_count": 10,
     "metadata": {},
     "output_type": "execute_result"
    }
   ],
   "execution_count": 10
  },
  {
   "metadata": {
    "ExecuteTime": {
     "end_time": "2025-07-06T19:10:48.080129Z",
     "start_time": "2025-07-06T19:10:48.060291Z"
    }
   },
   "cell_type": "code",
   "source": [
    "print(\"👥 Clientes cadastrados:\")\n",
    "for cliente in colecao.find({}, { \"_id\": 0 }):\n",
    "    pprint(cliente)"
   ],
   "id": "e0a4ebcb88f21155",
   "outputs": [
    {
     "name": "stdout",
     "output_type": "stream",
     "text": [
      "👥 Clientes cadastrados:\n",
      "{'cpf': '123.456.789-00', 'nome': 'João Lima', 'vip': True}\n",
      "{'cpf': '123.456.789-00', 'nome': 'João Lima', 'vip': True}\n"
     ]
    }
   ],
   "execution_count": 2
  },
  {
   "metadata": {
    "ExecuteTime": {
     "end_time": "2025-07-06T19:11:34.991029Z",
     "start_time": "2025-07-06T19:11:34.979971Z"
    }
   },
   "cell_type": "code",
   "source": [
    "# Agrupa por CPF e identifica documentos duplicados\n",
    "duplicados = colecao.aggregate([\n",
    "    {\n",
    "        \"$group\": {\n",
    "            \"_id\": \"$cpf\",\n",
    "            \"ids\": { \"$addToSet\": \"_id\" },\n",
    "            \"count\": { \"$sum\": 1 }\n",
    "        }\n",
    "    },\n",
    "    {\n",
    "        \"$match\": { \"count\": { \"$gt\": 1 } }\n",
    "    }\n",
    "])\n",
    "\n",
    "# Apaga todos os documentos duplicados, mantendo um\n",
    "for doc in duplicados:\n",
    "    ids = doc[\"ids\"]\n",
    "    ids.pop(0)  # mantém o primeiro\n",
    "    colecao.delete_many({ \"_id\": { \"$in\": ids } })\n",
    "\n",
    "print(\"✅ Duplicados removidos com sucesso!\")"
   ],
   "id": "fa4a5c520efb5f6b",
   "outputs": [
    {
     "name": "stdout",
     "output_type": "stream",
     "text": [
      "✅ Duplicados removidos com sucesso!\n"
     ]
    }
   ],
   "execution_count": 3
  },
  {
   "metadata": {},
   "cell_type": "code",
   "outputs": [],
   "execution_count": null,
   "source": "",
   "id": "982f58bc05c1f92f"
  }
 ],
 "metadata": {},
 "nbformat": 4,
 "nbformat_minor": 5
}
